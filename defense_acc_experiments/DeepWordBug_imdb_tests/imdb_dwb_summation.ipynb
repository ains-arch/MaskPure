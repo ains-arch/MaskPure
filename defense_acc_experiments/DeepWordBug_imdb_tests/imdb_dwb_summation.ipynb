{
  "nbformat": 4,
  "nbformat_minor": 0,
  "metadata": {
    "colab": {
      "provenance": []
    },
    "kernelspec": {
      "name": "python3",
      "display_name": "Python 3"
    },
    "language_info": {
      "name": "python"
    }
  },
  "cells": [
    {
      "cell_type": "code",
      "execution_count": 1,
      "metadata": {
        "id": "dQgXX68_qwQ1"
      },
      "outputs": [],
      "source": [
        "import numpy as np\n",
        "from collections import Counter"
      ]
    },
    {
      "cell_type": "code",
      "source": [
        "# the quantity of differen things, based on the trials that were run\n",
        "# this time for deepwordbug on the imDB dataset 9776 trials)\n",
        "\n",
        "total_runs = np.sum(np.array([250,250,276]))"
      ],
      "metadata": {
        "id": "biciqGF0qzrk"
      },
      "execution_count": 2,
      "outputs": []
    },
    {
      "cell_type": "code",
      "source": [
        "total_runs"
      ],
      "metadata": {
        "colab": {
          "base_uri": "https://localhost:8080/"
        },
        "id": "fXk20-CFriwN",
        "outputId": "93e32845-3c03-48be-81ff-2ae4113fcc53"
      },
      "execution_count": 3,
      "outputs": [
        {
          "output_type": "execute_result",
          "data": {
            "text/plain": [
              "776"
            ]
          },
          "metadata": {},
          "execution_count": 3
        }
      ]
    },
    {
      "cell_type": "markdown",
      "source": [
        "# Results for MaskPure logit defense method"
      ],
      "metadata": {
        "id": "jhbt-lHXlVZA"
      }
    },
    {
      "cell_type": "code",
      "source": [
        "# times where the attacker failed (a good thing for us, the defenders)\n",
        "total_fails = np.sum(np.array([154, 145, 170]))\n",
        "# times where the attack succeeded\n",
        "total_suc = np.sum(np.array([79, 88, 87]))\n",
        "# times where the attack was skipped (base model was already wrong)\n",
        "total_skip = np.sum(np.array([17, 17, 19]))\n",
        "# checking that these sum to 776, to make sure i copied the values properly\n",
        "print(total_suc+total_fails+total_skip)\n",
        "\n",
        "# so we have 776 results,\n",
        "# but we are consistently using only 100 for the others\n",
        "# hence, putting all of these results into a list and sampling the first 100 (randomly, to be fair)\n",
        "suc = 2\n",
        "fail = 1\n",
        "skip = 0\n",
        "\n",
        "array_of_successes = np.ones(total_suc)*2\n",
        "array_of_fails = np.ones(total_fails)\n",
        "array_of_skips = np.zeros(total_skip)\n",
        "\n",
        "total_results_list = np.concatenate([array_of_successes,array_of_fails, array_of_skips])\n",
        "\n",
        "np.random.seed(1)\n",
        "np.random.shuffle(total_results_list)\n",
        "list_of_100_results_to_use = total_results_list[:100]\n",
        "\n",
        "pass_fail_skips = list(Counter(list_of_100_results_to_use).values())\n",
        "\n",
        "print(pass_fail_skips)\n",
        "\n",
        "print(\"results from the 100 randomly-selected-from-776 samples:\")\n",
        "print()\n",
        "print(f'Base accuracy (Boa%): {pass_fail_skips[0] + pass_fail_skips[1]}%')\n",
        "print(f'After Attack Accuracy (TAE): {pass_fail_skips[0]}%')"
      ],
      "metadata": {
        "id": "Qtz4wUzCrjdX",
        "colab": {
          "base_uri": "https://localhost:8080/"
        },
        "outputId": "7a15db0e-ee0e-4b33-902b-5d3858dfc2b8"
      },
      "execution_count": 21,
      "outputs": [
        {
          "output_type": "stream",
          "name": "stdout",
          "text": [
            "776\n",
            "[63, 29, 8]\n",
            "results from the 100 randomly-selected-from-776 samples:\n",
            "\n",
            "Base accuracy (Boa%): 92%\n",
            "After Attack Accuracy (TAE): 63%\n"
          ]
        }
      ]
    },
    {
      "cell_type": "markdown",
      "source": [
        "# Results for Maskpure one-hot defense method"
      ],
      "metadata": {
        "id": "Tlp_ATwmou8N"
      }
    },
    {
      "cell_type": "code",
      "source": [
        "# times where the attacker failed (a good thing for us, the defenders)\n",
        "total_fails = np.sum(np.array([203, 202, 221]))\n",
        "# times where the attack succeeded\n",
        "total_suc = np.sum(np.array([27, 33, 35]))\n",
        "# times where the attack was skipped (base model was already wrong)\n",
        "total_skip = np.sum(np.array([20, 15, 20]))\n",
        "# checking that these sum to 776, to make sure i copied the values properly\n",
        "print(total_suc+total_fails+total_skip)\n",
        "\n",
        "# so we have 776 results,\n",
        "# but we are consistently using only 100 for the others\n",
        "# hence, putting all of these results into a list and sampling the first 100 (randomly, to be fair)\n",
        "suc = 2\n",
        "fail = 1\n",
        "skip = 0\n",
        "\n",
        "array_of_successes = np.ones(total_suc)*2\n",
        "array_of_fails = np.ones(total_fails)\n",
        "array_of_skips = np.zeros(total_skip)\n",
        "\n",
        "total_results_list = np.concatenate([array_of_successes,array_of_fails, array_of_skips])\n",
        "\n",
        "np.random.seed(1)\n",
        "np.random.shuffle(total_results_list)\n",
        "list_of_100_results_to_use = total_results_list[:100]\n",
        "\n",
        "pass_fail_skips = list(Counter(list_of_100_results_to_use).values())\n",
        "\n",
        "print(pass_fail_skips)\n",
        "\n",
        "print(\"results from the 100 randomly-selected-from-776 samples:\")\n",
        "print()\n",
        "print(f'Base accuracy (Boa%): {pass_fail_skips[0] + pass_fail_skips[1]}%')\n",
        "print(f'After Attack Accuracy (TAE): {pass_fail_skips[0]}%')"
      ],
      "metadata": {
        "colab": {
          "base_uri": "https://localhost:8080/"
        },
        "id": "uA9hw_EZozfM",
        "outputId": "4ccbe20e-f73a-4ca7-c40d-08384fd45228"
      },
      "execution_count": 23,
      "outputs": [
        {
          "output_type": "stream",
          "name": "stdout",
          "text": [
            "776\n",
            "[78, 14, 8]\n",
            "results from the 100 randomly-selected-from-776 samples:\n",
            "\n",
            "Base accuracy (Boa%): 92%\n",
            "After Attack Accuracy (TAE): 78%\n"
          ]
        }
      ]
    },
    {
      "cell_type": "markdown",
      "source": [
        "# Results for MaskPure Majority Defense method"
      ],
      "metadata": {
        "id": "IzkNRm5ao4Go"
      }
    },
    {
      "cell_type": "code",
      "source": [
        "# times where the attacker failed (a good thing for us, the defenders)\n",
        "total_fails = np.sum(np.array([172, 175, 191]))\n",
        "# times where the attack succeeded\n",
        "total_suc = np.sum(np.array([64, 61, 65]))\n",
        "# times where the attack was skipped (base model was already wrong)\n",
        "total_skip = np.sum(np.array([14, 14, 20]))\n",
        "# checking that these sum to 776, to make sure i copied the values properly\n",
        "print(total_suc+total_fails+total_skip)\n",
        "\n",
        "# so we have 776 results,\n",
        "# but we are consistently using only 100 for the others\n",
        "# hence, putting all of these results into a list and sampling the first 100 (randomly, to be fair)\n",
        "suc = 2\n",
        "fail = 1\n",
        "skip = 0\n",
        "\n",
        "array_of_successes = np.ones(total_suc)*2\n",
        "array_of_fails = np.ones(total_fails)\n",
        "array_of_skips = np.zeros(total_skip)\n",
        "\n",
        "total_results_list = np.concatenate([array_of_successes,array_of_fails, array_of_skips])\n",
        "\n",
        "np.random.seed(1)\n",
        "np.random.shuffle(total_results_list)\n",
        "list_of_100_results_to_use = total_results_list[:100]\n",
        "\n",
        "pass_fail_skips = list(Counter(list_of_100_results_to_use).values())\n",
        "\n",
        "print(pass_fail_skips)\n",
        "\n",
        "print(\"results from the 100 randomly-selected-from-776 samples:\")\n",
        "print()\n",
        "print(f'Base accuracy (Boa%): {pass_fail_skips[0] + pass_fail_skips[1]}%')\n",
        "print(f'After Attack Accuracy (TAE): {pass_fail_skips[0]}%')"
      ],
      "metadata": {
        "colab": {
          "base_uri": "https://localhost:8080/"
        },
        "id": "mMQCYtypo3kQ",
        "outputId": "76a0ac66-c0ac-4f30-8e25-1b8a839af784"
      },
      "execution_count": 22,
      "outputs": [
        {
          "output_type": "stream",
          "name": "stdout",
          "text": [
            "776\n",
            "[71, 22, 7]\n",
            "results from the 100 randomly-selected-from-776 samples:\n",
            "\n",
            "Base accuracy (Boa%): 93%\n",
            "After Attack Accuracy (TAE): 71%\n"
          ]
        }
      ]
    },
    {
      "cell_type": "code",
      "source": [],
      "metadata": {
        "id": "2jBONVExpbwL"
      },
      "execution_count": null,
      "outputs": []
    }
  ]
}
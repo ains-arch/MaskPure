{
  "nbformat": 4,
  "nbformat_minor": 0,
  "metadata": {
    "colab": {
      "provenance": []
    },
    "kernelspec": {
      "name": "python3",
      "display_name": "Python 3"
    },
    "language_info": {
      "name": "python"
    }
  },
  "cells": [
    {
      "cell_type": "code",
      "execution_count": null,
      "metadata": {
        "id": "dQgXX68_qwQ1"
      },
      "outputs": [],
      "source": [
        "import numpy as np\n",
        "from collections import Counter"
      ]
    },
    {
      "cell_type": "code",
      "source": [
        "# the quantity of differen things, based on the trials that were run\n",
        "# this time for textfooler with k=50 on the imDB dataset\n",
        "# Results where these come from are in the maskpure github\n",
        "# inside mask-pure/li2023_comparison/imdb_776_tests_latest/fooler50_trials\n",
        "\n",
        "total_runs = np.sum(np.array([15,19,13 ,8, 14, 22, 16]))"
      ],
      "metadata": {
        "id": "biciqGF0qzrk"
      },
      "execution_count": null,
      "outputs": []
    },
    {
      "cell_type": "code",
      "source": [
        "total_runs"
      ],
      "metadata": {
        "colab": {
          "base_uri": "https://localhost:8080/"
        },
        "id": "fXk20-CFriwN",
        "outputId": "be7d6273-9943-44df-a307-8381a61ef8e7"
      },
      "execution_count": null,
      "outputs": [
        {
          "output_type": "execute_result",
          "data": {
            "text/plain": [
              "107"
            ]
          },
          "metadata": {},
          "execution_count": 3
        }
      ]
    },
    {
      "cell_type": "code",
      "source": [
        "# times where the attacker failed (a good thing for us, the defenders)\n",
        "total_fails = np.sum(np.array([10, 10, 9, 6, 11, 12, 12]))\n",
        "# times where the attack succeeded\n",
        "total_suc = np.sum(np.array([5, 7, 4, 2, 1, 8, 4]))\n",
        "total_skip = np.sum(np.array([0,2, 0, 0, 2, 2, 0]))"
      ],
      "metadata": {
        "id": "Qtz4wUzCrjdX"
      },
      "execution_count": null,
      "outputs": []
    },
    {
      "cell_type": "code",
      "source": [
        "print(total_suc)\n",
        "print(total_fails)\n",
        "print(total_skip)\n",
        "# checking that these sum to 107, to make sure i copied the values properly"
      ],
      "metadata": {
        "colab": {
          "base_uri": "https://localhost:8080/"
        },
        "id": "rmo0zC8-smeN",
        "outputId": "c6f2b974-a713-403c-ce8c-6fa4f11a15bb"
      },
      "execution_count": null,
      "outputs": [
        {
          "output_type": "stream",
          "name": "stdout",
          "text": [
            "31\n",
            "70\n",
            "6\n"
          ]
        }
      ]
    },
    {
      "cell_type": "code",
      "source": [
        "# so we have 107 results,\n",
        "# but we are consistently using only 100 for the others\n",
        "# hence, putting all of these results into a list and sampling the first 100 (randomly, to be fair)\n",
        "suc = 2\n",
        "fail = 1\n",
        "skip = 0\n",
        "\n",
        "array_of_successes = np.ones(total_suc)*2\n",
        "array_of_fails = np.ones(total_fails)\n",
        "array_of_skips = np.zeros(total_skip)\n",
        "\n",
        "print(len(array_of_successes))\n",
        "print(len(array_of_fails))\n",
        "print(len(array_of_skips))"
      ],
      "metadata": {
        "colab": {
          "base_uri": "https://localhost:8080/"
        },
        "id": "WgKIEe7Rssuh",
        "outputId": "ebfbdc40-df9a-4ace-d5fe-997c1085a258"
      },
      "execution_count": null,
      "outputs": [
        {
          "output_type": "stream",
          "name": "stdout",
          "text": [
            "31\n",
            "70\n",
            "6\n"
          ]
        }
      ]
    },
    {
      "cell_type": "code",
      "source": [
        "total_results_list = np.concatenate([array_of_successes,array_of_fails, array_of_skips])"
      ],
      "metadata": {
        "id": "fY6Xu8bztzVK"
      },
      "execution_count": null,
      "outputs": []
    },
    {
      "cell_type": "code",
      "source": [
        "np.random.seed(1)\n",
        "np.random.shuffle(total_results_list)\n",
        "list_of_100_results_to_use = total_results_list[:100]"
      ],
      "metadata": {
        "id": "Nvlla0jet_5n"
      },
      "execution_count": null,
      "outputs": []
    },
    {
      "cell_type": "code",
      "source": [
        "len(list_of_100_results_to_use)"
      ],
      "metadata": {
        "colab": {
          "base_uri": "https://localhost:8080/"
        },
        "id": "V-vk6BRKulh6",
        "outputId": "33aae224-573e-4532-b82d-7713afe0413d"
      },
      "execution_count": null,
      "outputs": [
        {
          "output_type": "execute_result",
          "data": {
            "text/plain": [
              "100"
            ]
          },
          "metadata": {},
          "execution_count": 15
        }
      ]
    },
    {
      "cell_type": "code",
      "source": [
        "print(Counter(list_of_100_results_to_use).keys())\n",
        "print(Counter(list_of_100_results_to_use).values())"
      ],
      "metadata": {
        "colab": {
          "base_uri": "https://localhost:8080/"
        },
        "id": "bvm565OouuRS",
        "outputId": "763c2c40-6879-49d5-c15f-3d7995fa8ec9"
      },
      "execution_count": null,
      "outputs": [
        {
          "output_type": "stream",
          "name": "stdout",
          "text": [
            "dict_keys([2.0, 1.0, 0.0])\n",
            "dict_values([30, 64, 6])\n"
          ]
        }
      ]
    },
    {
      "cell_type": "code",
      "source": [
        "# as can be seen, 64% after attack accruacy was obtianed on these 100 random samples\n",
        "# without the attack 30+64 = 94 of the classifications would have been correct (based on the number of skips)\n",
        "# Hence, the before-attack accruacy with this defense on these samples was 94%\n",
        "\n",
        "# important values:\n",
        "# 94% Boa\n",
        "# 64% TAE after attack accuracy"
      ],
      "metadata": {
        "id": "ADNPgzNkuzXc"
      },
      "execution_count": null,
      "outputs": []
    }
  ]
}